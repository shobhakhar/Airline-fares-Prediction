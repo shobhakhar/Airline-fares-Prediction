{
 "cells": [
  {
   "cell_type": "code",
   "execution_count": 1,
   "id": "89a781d5",
   "metadata": {},
   "outputs": [
    {
     "name": "stderr",
     "output_type": "stream",
     "text": [
      "Registered S3 method overwritten by 'rvest':\n",
      "  method            from\n",
      "  read_xml.response xml2\n",
      "-- Attaching packages --------------------------------------- tidyverse 1.2.1 --\n",
      "v ggplot2 3.1.1       v purrr   0.3.2  \n",
      "v tibble  2.1.1       v dplyr   0.8.0.1\n",
      "v tidyr   0.8.3       v stringr 1.4.0  \n",
      "v readr   1.3.1       v forcats 0.4.0  \n",
      "-- Conflicts ------------------------------------------ tidyverse_conflicts() --\n",
      "x dplyr::filter() masks stats::filter()\n",
      "x dplyr::lag()    masks stats::lag()\n"
     ]
    }
   ],
   "source": [
    "library(tidyverse)\n",
    "library(ggplot2)"
   ]
  },
  {
   "cell_type": "code",
   "execution_count": 2,
   "id": "8c95c0fa",
   "metadata": {},
   "outputs": [
    {
     "name": "stderr",
     "output_type": "stream",
     "text": [
      "Warning message in file(file, \"rt\"):\n",
      "\"cannot open file 'Downloads/Data_train.csv': No such file or directory\""
     ]
    },
    {
     "ename": "ERROR",
     "evalue": "Error in file(file, \"rt\"): cannot open the connection\n",
     "output_type": "error",
     "traceback": [
      "Error in file(file, \"rt\"): cannot open the connection\nTraceback:\n",
      "1. read.csv(\"Downloads/Data_train.csv\")",
      "2. read.table(file = file, header = header, sep = sep, quote = quote, \n .     dec = dec, fill = fill, comment.char = comment.char, ...)",
      "3. file(file, \"rt\")"
     ]
    }
   ],
   "source": [
    "# load dataset\n",
    "data <- read.csv(\"Downloads/Data_train.csv\")\n",
    "head(data)"
   ]
  },
  {
   "cell_type": "code",
   "execution_count": null,
   "id": "f82cf342",
   "metadata": {},
   "outputs": [],
   "source": [
    "# glimpse of data\n",
    "str(data)"
   ]
  },
  {
   "cell_type": "markdown",
   "id": "f61e605d",
   "metadata": {},
   "source": [
    "## Data Cleaning"
   ]
  },
  {
   "cell_type": "code",
   "execution_count": null,
   "id": "004f434e",
   "metadata": {},
   "outputs": [],
   "source": [
    "# Remove duplicate rows\n",
    "data <- data %>% distinct()\n",
    "str(data)"
   ]
  },
  {
   "cell_type": "code",
   "execution_count": null,
   "id": "5d0598e6",
   "metadata": {},
   "outputs": [],
   "source": [
    "# Convert date of journey to days of week only\n",
    "data1 <- strftime(data$Date_of_Journey, \"%A\")\n",
    "\n",
    "#Days of week\n",
    "data2 <- data %>% \n",
    "    mutate(Days_of_week = data1)\n",
    "head(data2)\n"
   ]
  },
  {
   "cell_type": "code",
   "execution_count": null,
   "id": "fb6640ff",
   "metadata": {},
   "outputs": [],
   "source": [
    "#Count values for each Airlines\n",
    "unique(data2$Airline)\n",
    "airline <- data2 %>% group_by(Airline) %>% count()\n",
    "airline"
   ]
  },
  {
   "cell_type": "code",
   "execution_count": null,
   "id": "87ce87f2",
   "metadata": {},
   "outputs": [],
   "source": [
    "# Drop Airlines with less than 15 observations\n",
    "data3 <- data2 %>%\n",
    "  filter(Airline %in% c(\"IndiGo\", \"Air India\", \"Jet Airways\", \"SpiceJet\", \"Multiple carriers\", \"GoAir\", \"Vistara\", \"Air Asia\"))\n",
    "head(data3)"
   ]
  },
  {
   "cell_type": "code",
   "execution_count": null,
   "id": "7d775824",
   "metadata": {},
   "outputs": [],
   "source": [
    "# Drop the following additional columns:\n",
    "# Route and Additional_info\n",
    "data3  <- data2  %>% \n",
    "    select(-c(5,10))\n",
    "head(data3)"
   ]
  },
  {
   "cell_type": "code",
   "execution_count": null,
   "id": "4a576533",
   "metadata": {},
   "outputs": [],
   "source": [
    "# split date_of_Journey column to Day, Month and Year\n",
    "data3 = separate(data3, \"Date_of_Journey\", c(\"Day\", \"Month\", \"Year\"), sep = \"/\")\n",
    "head(data3)\n"
   ]
  },
  {
   "cell_type": "code",
   "execution_count": null,
   "id": "8a2ce6b5",
   "metadata": {},
   "outputs": [],
   "source": [
    "# Drop Day and Year columns\n",
    "data3  <- data3  %>% \n",
    "    select(-c(2,4))\n",
    "head(data3)"
   ]
  },
  {
   "cell_type": "code",
   "execution_count": null,
   "id": "4e9ff401",
   "metadata": {},
   "outputs": [],
   "source": [
    "# Select observations only with source from Banglore, Delhi and Kolkata\n",
    "data4 <- data3 %>% \n",
    "    filter(Source %in% c(\"Banglore\", \"Delhi\", \"Kolkata\"))\n",
    "str(data4)"
   ]
  },
  {
   "cell_type": "code",
   "execution_count": null,
   "id": "d5935059",
   "metadata": {},
   "outputs": [],
   "source": [
    "# Check unique values in Source\n",
    "unique(data4$Source)"
   ]
  },
  {
   "cell_type": "code",
   "execution_count": null,
   "id": "d29fb15f",
   "metadata": {},
   "outputs": [],
   "source": [
    "# Check unique values in Destination\n",
    "unique(data4$Destination)"
   ]
  },
  {
   "cell_type": "markdown",
   "id": "fc8a9f9b",
   "metadata": {},
   "source": [
    "### We noticed New Delhi and Delhi are same city in India. So, we are going to combine them as New Delhi"
   ]
  },
  {
   "cell_type": "code",
   "execution_count": null,
   "id": "624834de",
   "metadata": {},
   "outputs": [],
   "source": [
    "destination <- replace(data4$Destination, data4$Destination ==\"Delhi\",\"New Delhi\")\n"
   ]
  },
  {
   "cell_type": "code",
   "execution_count": null,
   "id": "dadc142e",
   "metadata": {},
   "outputs": [],
   "source": [
    "data5 <- data4 %>% \n",
    "    mutate(Destination = destination)"
   ]
  },
  {
   "cell_type": "code",
   "execution_count": null,
   "id": "90676ec2",
   "metadata": {},
   "outputs": [],
   "source": [
    "unique(data5$Destination)"
   ]
  },
  {
   "cell_type": "code",
   "execution_count": null,
   "id": "e3e9f414",
   "metadata": {},
   "outputs": [],
   "source": [
    "# Convert Dep_time(from 20:00 to 2000)\n",
    "data5 <- separate(data5, Dep_Time, into = c(\"a\",\"b\"), sep = \":\")\n",
    "data5 <- unite(data5, a, b, col = \"Dep_Time\", sep = \"\")\n",
    "head(data5)"
   ]
  },
  {
   "cell_type": "code",
   "execution_count": null,
   "id": "f363a332",
   "metadata": {},
   "outputs": [],
   "source": [
    "# Change data type of Dep_time column to numeric\n",
    "class(data5$Dep_Time)"
   ]
  },
  {
   "cell_type": "code",
   "execution_count": null,
   "id": "e49864e7",
   "metadata": {},
   "outputs": [],
   "source": [
    "data5$Dep_Time <- as.numeric(as.character(data5$Dep_Time))"
   ]
  },
  {
   "cell_type": "code",
   "execution_count": null,
   "id": "f5abc71f",
   "metadata": {},
   "outputs": [],
   "source": [
    "class(data5$Dep_Time)"
   ]
  },
  {
   "cell_type": "code",
   "execution_count": null,
   "id": "64daa4e7",
   "metadata": {},
   "outputs": [],
   "source": [
    "# convert Dep_time into four classes such as morning, evening, ......\n",
    "data5 <- data5 %>%\n",
    "  mutate(Departure = 0)%>%\n",
    "  mutate(Departure = if_else(Dep_Time>=0000 & Dep_Time<0600, 1,Departure)) %>% \n",
    "  mutate(Departure = if_else(Dep_Time>=0600 & Dep_Time<1000, 2,Departure)) %>%\n",
    "  mutate(Departure = if_else(Dep_Time>=1000 & Dep_Time<1800, 3,Departure)) %>%\n",
    "  mutate(Departure = if_else(Dep_Time>=1800 & Dep_Time<2359, 4,Departure))\n",
    "head(data5)"
   ]
  },
  {
   "cell_type": "code",
   "execution_count": null,
   "id": "dcbb7239",
   "metadata": {},
   "outputs": [],
   "source": [
    "# Convert duration of hours and minutes to only minutes\n",
    "data6 <- separate(data5, Duration, into = c(\"h\",\"m\"), sep = \" \")\n",
    "data6 <- separate(data6, h, into = c(\"a\"), sep = \"h\")\n",
    "data6 <- separate(data6, m, into = c(\"b\"), sep = \"m\")\n",
    "head(data6)"
   ]
  },
  {
   "cell_type": "code",
   "execution_count": null,
   "id": "fe2c8eb6",
   "metadata": {},
   "outputs": [],
   "source": [
    "data6$a <- as.numeric(as.character(data6$a))\n",
    "data6$b <- as.numeric(as.character(data6$b))\n",
    "data6$a <- (data6$a*60)\n",
    "head(data6)\n"
   ]
  },
  {
   "cell_type": "code",
   "execution_count": null,
   "id": "5b71ed81",
   "metadata": {},
   "outputs": [],
   "source": [
    "data6$b = data6$b %>% replace_na(0)\n",
    "data6 <- data6 %>% \n",
    "    mutate(Duration = data6$a + data6$b) %>% \n",
    "    select(-c(5,7,8)) # drop a, b, and Dep_Time columns\n",
    "head(data6)\n"
   ]
  },
  {
   "cell_type": "code",
   "execution_count": null,
   "id": "beb4ee39",
   "metadata": {},
   "outputs": [],
   "source": [
    "unique(data6$Total_Stops)"
   ]
  },
  {
   "cell_type": "code",
   "execution_count": null,
   "id": "59c79e51",
   "metadata": {},
   "outputs": [],
   "source": [
    "# filter data by total_stops values\n",
    "data7 <- data6 %>% filter(Total_Stops %in% c(\"non-stop\", \"3 stops\", \"2 stops\", \"1 stop\"))\n",
    "str(data7)"
   ]
  },
  {
   "cell_type": "code",
   "execution_count": null,
   "id": "9dbb1869",
   "metadata": {},
   "outputs": [],
   "source": [
    "unique(data7$Total_Stops)"
   ]
  },
  {
   "cell_type": "code",
   "execution_count": null,
   "id": "f0c4d64e",
   "metadata": {},
   "outputs": [],
   "source": [
    "data7$Total_Stops <- as.factor(data7$Total_Stops)"
   ]
  },
  {
   "cell_type": "code",
   "execution_count": null,
   "id": "88637670",
   "metadata": {},
   "outputs": [],
   "source": [
    "unique(data7$Source)"
   ]
  },
  {
   "cell_type": "code",
   "execution_count": null,
   "id": "bc5f45a8",
   "metadata": {},
   "outputs": [],
   "source": [
    "# Replace Delhi to New Delhi in source Column\n",
    "# destination <- replace(data4$Destination, data4$Destination ==\"Delhi\",\"New Delhi\")\n",
    "# data7$Destination  <- as.factor(data7$Destination)\n",
    "#data7$Source  <- as.character(data7$Source)\n",
    "# data7$Source  <- as.factor(data7$Source)\n",
    "# data7$Days_of_week  <- as.factor(data7$Days_of_week)\n",
    "#source <-replace(data7$Source, data7$Source == \"Delhi\", \"New Delhi\")\n",
    "str(data7)"
   ]
  },
  {
   "cell_type": "code",
   "execution_count": null,
   "id": "5e659a5d",
   "metadata": {},
   "outputs": [],
   "source": [
    "data8 <- data7 %>% \n",
    "    mutate(Source = source)\n",
    "str(data8)"
   ]
  },
  {
   "cell_type": "code",
   "execution_count": null,
   "id": "165228dd",
   "metadata": {},
   "outputs": [],
   "source": [
    "unique(data8$Source)"
   ]
  },
  {
   "cell_type": "code",
   "execution_count": null,
   "id": "3dd929d2",
   "metadata": {},
   "outputs": [],
   "source": [
    "head(data8)"
   ]
  },
  {
   "cell_type": "code",
   "execution_count": null,
   "id": "b99ad247",
   "metadata": {},
   "outputs": [],
   "source": [
    "# Drop Arrival_time Column\n",
    "data8  <- data8  %>% \n",
    "    select(-5)"
   ]
  },
  {
   "cell_type": "code",
   "execution_count": null,
   "id": "c1022891",
   "metadata": {},
   "outputs": [],
   "source": [
    "head(data8)"
   ]
  },
  {
   "cell_type": "markdown",
   "id": "c81f49a9",
   "metadata": {},
   "source": [
    "## Data Visualizations"
   ]
  },
  {
   "cell_type": "code",
   "execution_count": null,
   "id": "6feb07c1",
   "metadata": {},
   "outputs": [],
   "source": [
    "Plot_hist_Price <- ggplot(data8, aes(Price))+\n",
    "  geom_histogram(fill = 'blue')\n",
    "Plot_hist_Price \n",
    "# Data for Price is rightly skewed and needs to be transformed."
   ]
  },
  {
   "cell_type": "code",
   "execution_count": null,
   "id": "583edd93",
   "metadata": {},
   "outputs": [],
   "source": [
    "Plot_hist_logPrice <- ggplot(data8, aes(log(Price)))+\n",
    "  geom_histogram(fill = \"blue\")\n",
    "Plot_hist_logPrice\n",
    "# Data looks good after the log transformation, so we will use price as log transformed."
   ]
  },
  {
   "cell_type": "code",
   "execution_count": null,
   "id": "009c6796",
   "metadata": {},
   "outputs": [],
   "source": [
    "Plot_AP <- ggplot(data8, aes(Airline,Price, color = Departure)) +\n",
    "  geom_point()\n",
    "Plot_AP"
   ]
  },
  {
   "cell_type": "code",
   "execution_count": null,
   "id": "0ee0ad86",
   "metadata": {},
   "outputs": [],
   "source": [
    "Plot_DP <- ggplot(data8, aes(Duration,Price, color = as.factor(Airline)))+\n",
    "  geom_point()+\n",
    "  facet_wrap(~Total_Stops)\n",
    "Plot_DP"
   ]
  },
  {
   "cell_type": "code",
   "execution_count": null,
   "id": "1f47f0d1",
   "metadata": {},
   "outputs": [],
   "source": [
    "Plot_TP <- ggplot(data8, aes(Total_Stops,Price))+\n",
    "  geom_point()\n",
    "Plot_TP"
   ]
  },
  {
   "cell_type": "code",
   "execution_count": null,
   "id": "580b8335",
   "metadata": {},
   "outputs": [],
   "source": [
    "#KEEP\n",
    "Plot_TPbox <- ggplot(data8, aes(Total_Stops,Price, color = Total_Stops))+\n",
    "  geom_boxplot()\n",
    "Plot_TPbox"
   ]
  },
  {
   "cell_type": "code",
   "execution_count": null,
   "id": "30060b74",
   "metadata": {},
   "outputs": [],
   "source": [
    "Plot_DAYP <- ggplot(data8, aes(Days_of_week,Price, color = Days_of_week)) +\n",
    "  geom_boxplot()\n",
    "Plot_DAYP"
   ]
  },
  {
   "cell_type": "code",
   "execution_count": null,
   "id": "cdc65489",
   "metadata": {},
   "outputs": [],
   "source": [
    "Plot_DeP <- ggplot(data8, aes(Departure,Price, color = as.factor(Departure)))+\n",
    "  geom_boxplot()\n",
    "Plot_DeP"
   ]
  },
  {
   "cell_type": "code",
   "execution_count": null,
   "id": "46573248",
   "metadata": {},
   "outputs": [],
   "source": [
    "#KEEP\n",
    "Avg_week_price <- data8 %>% group_by(Days_of_week) %>% summarise(mean_price = mean(Price))\n",
    "ggplot(Avg_week_price, aes(x = Days_of_week, y = mean_price, fill = Days_of_week)) + geom_bar(stat = \"identity\")+\n",
    "  theme(axis.text.x = element_text(angle=90))"
   ]
  },
  {
   "cell_type": "code",
   "execution_count": null,
   "id": "da56e2a4",
   "metadata": {},
   "outputs": [],
   "source": [
    "min_price <- data8 %>% group_by(Days_of_week) %>% summarise(minP = min(Price))\n",
    "ggplot(aes(x = Days_of_week, y = minP), data = min_price) + geom_bar(stat = \"identity\")"
   ]
  },
  {
   "cell_type": "code",
   "execution_count": null,
   "id": "5906bfa8",
   "metadata": {},
   "outputs": [],
   "source": [
    "#KEEP\n",
    "max_price <- data8 %>% group_by(Days_of_week) %>% summarise(maxP = max(Price))\n",
    "ggplot(aes(x = Days_of_week, y = maxP, fill = Days_of_week), data = max_price) + geom_bar(stat = \"identity\")+\n",
    "  theme(axis.text.x = element_text(angle=90))"
   ]
  },
  {
   "cell_type": "code",
   "execution_count": null,
   "id": "d9b9e65d",
   "metadata": {},
   "outputs": [],
   "source": [
    "Avg_month_price <- data8 %>% group_by(Month) %>% summarise(meanP = mean(Price))\n",
    "ggplot(aes(x = Month, y = meanP, fill = Month), data = Avg_month_price) + geom_bar(stat = \"identity\")"
   ]
  },
  {
   "cell_type": "code",
   "execution_count": null,
   "id": "aad8cb37",
   "metadata": {},
   "outputs": [],
   "source": [
    "max_month_price <- data8 %>% group_by(Month) %>% summarise(maxP = max(Price))\n",
    "ggplot(aes(x = Month, y = maxP, fill = Month), data = max_month_price) + geom_bar(stat = \"identity\")"
   ]
  },
  {
   "cell_type": "code",
   "execution_count": null,
   "id": "a6068fe1",
   "metadata": {},
   "outputs": [],
   "source": [
    "min_month_price <- data8 %>% group_by(Month) %>% summarise(minP = min(Price))\n",
    "ggplot(aes(x = Month, y = minP), data = min_month_price) + geom_bar(stat = \"identity\")"
   ]
  },
  {
   "cell_type": "code",
   "execution_count": null,
   "id": "acce1d0b",
   "metadata": {},
   "outputs": [],
   "source": [
    "Plot_DesP <- ggplot(data8, aes(Destination,Price, color = as.factor(Destination)))+\n",
    "  geom_boxplot()\n",
    "Plot_DesP"
   ]
  },
  {
   "cell_type": "code",
   "execution_count": null,
   "id": "d1256ac7",
   "metadata": {},
   "outputs": [],
   "source": [
    "Dest_Price <- data8 %>% group_by(Destination) %>% summarise(Average_Price = mean(Price))\n",
    "Plot_DesP_bar <- ggplot(data8, aes(Destination,Price, fill = as.factor(Destination)))+\n",
    "  geom_bar(stat = \"identity\")\n",
    "Plot_DesP_bar"
   ]
  },
  {
   "cell_type": "code",
   "execution_count": null,
   "id": "0264c31a",
   "metadata": {},
   "outputs": [],
   "source": [
    "#TOTAL STOPS\n",
    "Plot_TS <- ggplot(data8, aes(Total_Stops, fill = Total_Stops))+\n",
    "  geom_bar()\n",
    "Plot_TS"
   ]
  },
  {
   "cell_type": "code",
   "execution_count": null,
   "id": "5349df1b",
   "metadata": {},
   "outputs": [],
   "source": [
    "# DEAPRTURE\n",
    "Plot_DePbar <- ggplot(data8, aes(Departure, fill = as.factor(Departure)))+\n",
    "  geom_bar()\n",
    "Plot_DePbar"
   ]
  },
  {
   "cell_type": "code",
   "execution_count": null,
   "id": "287f59fa",
   "metadata": {},
   "outputs": [],
   "source": [
    "#DURATION\n",
    "\n",
    "Plot_hist_DUR <- ggplot(data8, aes(Duration))+\n",
    "  geom_histogram()\n",
    "Plot_hist_DUR"
   ]
  },
  {
   "cell_type": "code",
   "execution_count": null,
   "id": "63e92f5f",
   "metadata": {},
   "outputs": [],
   "source": [
    "Plot_hist_logDUR <- ggplot(data8, aes(log(Duration)))+\n",
    "  geom_histogram()\n",
    "Plot_hist_logDUR"
   ]
  },
  {
   "cell_type": "code",
   "execution_count": null,
   "id": "cbed21d9",
   "metadata": {},
   "outputs": [],
   "source": [
    "data8 %>% count(Month)"
   ]
  },
  {
   "cell_type": "code",
   "execution_count": null,
   "id": "cc8ebd2c",
   "metadata": {},
   "outputs": [],
   "source": [
    "Plot_DAYP_bar <- ggplot(data8, aes(Days_of_week)) +\n",
    "  geom_bar() \n",
    "Plot_DAYP_bar"
   ]
  },
  {
   "cell_type": "code",
   "execution_count": null,
   "id": "506d230f",
   "metadata": {},
   "outputs": [],
   "source": [
    "data8 %>% count(Days_of_week)\n"
   ]
  },
  {
   "cell_type": "code",
   "execution_count": null,
   "id": "8079869f",
   "metadata": {},
   "outputs": [],
   "source": [
    "data9 <- data8 %>% \n",
    "  select(-c(Source)) # dropped source "
   ]
  },
  {
   "cell_type": "code",
   "execution_count": null,
   "id": "8e1ede9b",
   "metadata": {},
   "outputs": [],
   "source": [
    "head(data9)"
   ]
  },
  {
   "cell_type": "code",
   "execution_count": null,
   "id": "1ccd08a7",
   "metadata": {},
   "outputs": [],
   "source": [
    "str(data9)"
   ]
  },
  {
   "cell_type": "code",
   "execution_count": null,
   "id": "05728905",
   "metadata": {},
   "outputs": [],
   "source": [
    "data9$Departure  <- as.factor(data9$Departure) # change class as factor"
   ]
  },
  {
   "cell_type": "code",
   "execution_count": null,
   "id": "add226a6",
   "metadata": {},
   "outputs": [],
   "source": [
    "data9$Month  <- as.factor(data9$Month) # change type to factor"
   ]
  },
  {
   "cell_type": "code",
   "execution_count": null,
   "id": "f3be85a0",
   "metadata": {},
   "outputs": [],
   "source": [
    "str(data9)"
   ]
  },
  {
   "cell_type": "code",
   "execution_count": null,
   "id": "3347ee80",
   "metadata": {},
   "outputs": [],
   "source": [
    "# install.packages(\"caTools\")\n",
    "library(caTools)\n"
   ]
  },
  {
   "cell_type": "code",
   "execution_count": null,
   "id": "e6380157",
   "metadata": {},
   "outputs": [],
   "source": [
    "#use caTools function to split, SplitRatio for 70%:30% splitting\n",
    "set.seed( 123)\n",
    "df= sample.split(data9,SplitRatio = 0.3)"
   ]
  },
  {
   "cell_type": "code",
   "execution_count": null,
   "id": "cbbc83e7",
   "metadata": {},
   "outputs": [],
   "source": [
    "#subsetting into Train data\n",
    "data9_test =subset(data9,df==TRUE)\n",
    "#subsetting into Test data\n",
    "data9_train =subset(data9,df==FALSE)"
   ]
  },
  {
   "cell_type": "code",
   "execution_count": null,
   "id": "cfb47628",
   "metadata": {},
   "outputs": [],
   "source": [
    "str(data9_train)"
   ]
  },
  {
   "cell_type": "code",
   "execution_count": null,
   "id": "bfcfeb23",
   "metadata": {},
   "outputs": [],
   "source": [
    "str(data9_test)"
   ]
  },
  {
   "cell_type": "code",
   "execution_count": null,
   "id": "d59062e3",
   "metadata": {},
   "outputs": [],
   "source": [
    "sum(is.na(data9)) # no na values in dataframe"
   ]
  },
  {
   "cell_type": "markdown",
   "id": "1f91af8e",
   "metadata": {},
   "source": [
    "## Linear Regression Model"
   ]
  },
  {
   "cell_type": "code",
   "execution_count": null,
   "id": "ebc9047e",
   "metadata": {},
   "outputs": [],
   "source": [
    "# Linear REgression Model \n",
    "LR <- lm(Price~.,data9_train)"
   ]
  },
  {
   "cell_type": "code",
   "execution_count": null,
   "id": "422c591a",
   "metadata": {},
   "outputs": [],
   "source": [
    "summary(LR)"
   ]
  },
  {
   "cell_type": "code",
   "execution_count": null,
   "id": "5a95aba4",
   "metadata": {},
   "outputs": [],
   "source": [
    "# Linear REg model with log of price and log od Duration\n",
    "LR2 <- lm(log(Price)~ Airline + Month + Destination + Total_Stops + Days_of_week + \n",
    "          as.factor(Departure) + log(Duration),data9_train)"
   ]
  },
  {
   "cell_type": "code",
   "execution_count": null,
   "id": "95e6e237",
   "metadata": {},
   "outputs": [],
   "source": [
    "summary(LR2)"
   ]
  },
  {
   "cell_type": "code",
   "execution_count": null,
   "id": "d70baad4",
   "metadata": {},
   "outputs": [],
   "source": [
    "# Linear REgression with only log(Price)----This is our preferred model of simple Multiple linear regression\n",
    "LR3 <- lm(log(Price)~.,data9_train)\n",
    "summary(LR3)"
   ]
  },
  {
   "cell_type": "code",
   "execution_count": null,
   "id": "459bc8e6",
   "metadata": {},
   "outputs": [],
   "source": [
    "#First prediction on train data using LR3\n",
    "predictLR3 <-  predict(LR3)"
   ]
  },
  {
   "cell_type": "code",
   "execution_count": null,
   "id": "881e9629",
   "metadata": {},
   "outputs": [],
   "source": [
    "data10 <- data9_train %>% \n",
    "    mutate(Predicted_Price = predictLR3)"
   ]
  },
  {
   "cell_type": "code",
   "execution_count": null,
   "id": "9a638bfd",
   "metadata": {},
   "outputs": [],
   "source": [
    "data11 <- data10 %>% \n",
    "    mutate(Predicted_Price_original = exp(Predicted_Price)) \n",
    "\n"
   ]
  },
  {
   "cell_type": "code",
   "execution_count": null,
   "id": "1cde1f65",
   "metadata": {},
   "outputs": [],
   "source": [
    "#install.packages(\"Metrics\")\n",
    "library(Metrics)"
   ]
  },
  {
   "cell_type": "code",
   "execution_count": null,
   "id": "06013b16",
   "metadata": {},
   "outputs": [],
   "source": [
    "head(data11)"
   ]
  },
  {
   "cell_type": "code",
   "execution_count": null,
   "id": "1f8fa42e",
   "metadata": {},
   "outputs": [],
   "source": [
    "# calculate RMSE at original scale\n",
    "rmse(data11$Price, data11$Predicted_Price_original)"
   ]
  },
  {
   "cell_type": "code",
   "execution_count": null,
   "id": "fb51dda1",
   "metadata": {},
   "outputs": [],
   "source": [
    "#First prediction on test data\n",
    "\n",
    "predict_test_LR3 <-  predict(LR3, data9_test)\n",
    "\n",
    "data12 <- data9_test %>% \n",
    "    mutate(Predicted_test_Price = predict_test_LR3)\n",
    "\n",
    "data13 <- data12 %>%\n",
    "    mutate(Predicted_Price_original = exp(Predicted_test_Price)) \n",
    "\n",
    "rmse(data13$Price, data13$Predicted_Price_original)"
   ]
  },
  {
   "cell_type": "markdown",
   "id": "d1005785",
   "metadata": {},
   "source": [
    "## Decision Tree Model"
   ]
  },
  {
   "cell_type": "code",
   "execution_count": null,
   "id": "d33f80cf",
   "metadata": {},
   "outputs": [],
   "source": [
    "# install.packages(\"rpart\")\n",
    "library(rpart)"
   ]
  },
  {
   "cell_type": "code",
   "execution_count": null,
   "id": "f8a1a3c6",
   "metadata": {},
   "outputs": [],
   "source": [
    "#Decision Tree\n",
    "Decision_Tree_Train <- rpart(Price~.,data9_train, method = \"anova\")\n"
   ]
  },
  {
   "cell_type": "code",
   "execution_count": null,
   "id": "9442f94b",
   "metadata": {},
   "outputs": [],
   "source": [
    "summary(Decision_Tree_Train)"
   ]
  },
  {
   "cell_type": "code",
   "execution_count": null,
   "id": "09c9be0b",
   "metadata": {},
   "outputs": [],
   "source": [
    "# Model Evaluation in train set\n",
    "Predict <- predict(Decision_Tree_Train)\n",
    "\n",
    "data9_train_tree <- data9_train %>% \n",
    "    mutate(Predicted_Price = Predict)\n",
    "\n",
    "rmse(data9_train_tree$Price, data9_train_tree$Predicted_Price)"
   ]
  },
  {
   "cell_type": "code",
   "execution_count": null,
   "id": "cc82c78d",
   "metadata": {},
   "outputs": [],
   "source": [
    "# Prediction on Test data\n",
    "Predict <- predict(Decision_Tree_Train, data9_test)\n",
    "\n",
    "data9_test_tree <- data9_test %>% \n",
    "    mutate(Predicted_Price = Predict)\n",
    "\n",
    "rmse(data9_test_tree$Price,data9_test_tree$Predicted_Price)"
   ]
  },
  {
   "cell_type": "code",
   "execution_count": null,
   "id": "f6dafd48",
   "metadata": {},
   "outputs": [],
   "source": [
    "#Decision Tree with log(Price)\n",
    "DT_log <- rpart(log(Price)~.,data9_train, method = \"anova\")"
   ]
  },
  {
   "cell_type": "code",
   "execution_count": null,
   "id": "9b213de0",
   "metadata": {},
   "outputs": [],
   "source": [
    "summary(DT_log)"
   ]
  },
  {
   "cell_type": "code",
   "execution_count": null,
   "id": "084d463c",
   "metadata": {},
   "outputs": [],
   "source": [
    "# Model Evaluation in train set\n",
    "Predict <- predict(DT_log)\n",
    "\n",
    "DT_log_train <- data9_train %>% \n",
    "    mutate(Predicted_Price = exp(Predict))\n",
    "\n",
    "rmse(DT_log_train$Price, DT_log_train$Predicted_Price)"
   ]
  },
  {
   "cell_type": "code",
   "execution_count": null,
   "id": "9b4f5c62",
   "metadata": {},
   "outputs": [],
   "source": [
    "# Prediction on Test data\n",
    "Predict <- predict(DT_log, data9_test)\n",
    "\n",
    "DT_log_test <- data9_test %>% \n",
    "    mutate(Predicted_Price = exp(Predict))\n",
    "\n",
    "rmse(DT_log_test$Price,DT_log_test$Predicted_Price)"
   ]
  },
  {
   "cell_type": "markdown",
   "id": "865689a6",
   "metadata": {},
   "source": [
    "## Random Forests Model"
   ]
  },
  {
   "cell_type": "code",
   "execution_count": null,
   "id": "96085914",
   "metadata": {},
   "outputs": [],
   "source": [
    "library(randomForest)"
   ]
  },
  {
   "cell_type": "code",
   "execution_count": null,
   "id": "b25e47f3",
   "metadata": {},
   "outputs": [],
   "source": [
    "# RANDOM FOREST TRAIN\n",
    "RF <- randomForest(Price~.,data9_train, importance=TRUE)\n"
   ]
  },
  {
   "cell_type": "code",
   "execution_count": null,
   "id": "8be5501e",
   "metadata": {},
   "outputs": [],
   "source": [
    "summary(RF)"
   ]
  },
  {
   "cell_type": "code",
   "execution_count": null,
   "id": "1528b302",
   "metadata": {},
   "outputs": [],
   "source": [
    "# Model Evaluation on Train set\n",
    "Predict_forest_train <- predict(RF)\n",
    "\n",
    "RF_train <- data9_train %>% mutate(Predicted_Price = Predict_forest_train)\n",
    "\n",
    "rmse(RF_train$Price, RF_train$Predicted_Price)"
   ]
  },
  {
   "cell_type": "code",
   "execution_count": null,
   "id": "5ed39db8",
   "metadata": {},
   "outputs": [],
   "source": [
    "# RANDOM FOREST TEST\n",
    "Predict_forest_test <- predict(RF, data9_test)\n",
    "\n",
    "RF_test<- data9_test %>% \n",
    "    mutate(Predicted_Price = Predict_forest_test)\n",
    "\n",
    "rmse(RF_test$Price, RF_test$Predicted_Price)"
   ]
  },
  {
   "cell_type": "code",
   "execution_count": null,
   "id": "13d750ea",
   "metadata": {},
   "outputs": [],
   "source": [
    "#RAndomForests model with log(Price)\n",
    "RF_log <- randomForest(log(Price)~.,data9_train, importance=TRUE)"
   ]
  },
  {
   "cell_type": "code",
   "execution_count": null,
   "id": "7afed26d",
   "metadata": {},
   "outputs": [],
   "source": [
    "summary(RF_log)"
   ]
  },
  {
   "cell_type": "code",
   "execution_count": null,
   "id": "5d28c1e5",
   "metadata": {},
   "outputs": [],
   "source": [
    "# Model Evaluation on Train set\n",
    "RF_log_train_predict <- predict(RF_log)\n",
    "\n",
    "RF_log_train <- data9_train %>% mutate(Predicted_Price = exp(RF_log_train_predict))\n",
    "\n",
    "rmse(RF_log_train$Price, RF_log_train$Predicted_Price)"
   ]
  },
  {
   "cell_type": "code",
   "execution_count": null,
   "id": "e8aafb97",
   "metadata": {},
   "outputs": [],
   "source": [
    "# RANDOM FOREST TEST\n",
    "RF_log_test_predict <- predict(RF_log, data9_test)\n",
    "\n",
    "RF_log_test<- data9_test %>% \n",
    "    mutate(Predicted_Price = exp(RF_log_test_predict))\n",
    "\n",
    "rmse(RF_log_test$Price, RF_log_test$Predicted_Price)"
   ]
  },
  {
   "cell_type": "markdown",
   "id": "c8c56e87",
   "metadata": {},
   "source": [
    "## Gradiant Boosting Model"
   ]
  },
  {
   "cell_type": "code",
   "execution_count": null,
   "id": "2d1c2156",
   "metadata": {},
   "outputs": [],
   "source": [
    "#install.packages('gbm')\n",
    "library(gbm)"
   ]
  },
  {
   "cell_type": "code",
   "execution_count": null,
   "id": "58a1404e",
   "metadata": {},
   "outputs": [],
   "source": [
    "GB_model=gbm(Price ~ . ,data = data9_train,distribution = \"gaussian\",n.trees = 10000,\n",
    "                  shrinkage = 0.01, interaction.depth = 4)\n"
   ]
  },
  {
   "cell_type": "code",
   "execution_count": null,
   "id": "67af6a8f",
   "metadata": {},
   "outputs": [],
   "source": [
    "summary(GB_model) #Summary gives a table of Variable Importance and a plot of Variable Importance"
   ]
  },
  {
   "cell_type": "code",
   "execution_count": null,
   "id": "19a3d1e2",
   "metadata": {},
   "outputs": [],
   "source": [
    "# Model Evaluation on Train set\n",
    "Predict_forest_train <- predict(RF)\n",
    "\n",
    "RF_train <- data9_train %>% mutate(Predicted_Price = Predict_forest_train)\n",
    "\n",
    "rmse(RF_train$Price, RF_train$Predicted_Price)"
   ]
  },
  {
   "cell_type": "markdown",
   "id": "63968dc3",
   "metadata": {},
   "source": [
    "### Prediction on Test Set"
   ]
  },
  {
   "cell_type": "code",
   "execution_count": null,
   "id": "d1d2e8fc",
   "metadata": {},
   "outputs": [],
   "source": [
    "GB_test_predict=predict(GB_model, n.trees = GB_model$n.trees, data9_test)\n",
    "\n",
    "GB_test<- data9_test %>% \n",
    "    mutate(Predicted_Price = GB_test_predict)\n",
    "\n",
    "rmse(GB_test$Price, GB_test$Predicted_Price)"
   ]
  },
  {
   "cell_type": "markdown",
   "id": "ad96b82c",
   "metadata": {},
   "source": [
    "### Prediction on Train Set"
   ]
  },
  {
   "cell_type": "code",
   "execution_count": null,
   "id": "4d0b7b01",
   "metadata": {},
   "outputs": [],
   "source": [
    "GB_train_predict=predict(GB_model, data9_train)\n",
    "\n",
    "GB_train<- data9_train %>% \n",
    "    mutate(Predicted_Price = GB_train_predict)\n",
    "\n",
    "rmse(GB_train$Price, GB_train$Predicted_Price)"
   ]
  },
  {
   "cell_type": "code",
   "execution_count": null,
   "id": "1176e521",
   "metadata": {},
   "outputs": [],
   "source": [
    "Dest_Price <- data8 %>% group_by(Destination,Airline) %>% summarise(Average_Price = mean(Price))\n",
    "Plot_DesP_line <- ggplot(Dest_Price, aes(y = Average_Price, x = Airline, group = Destination))+\n",
    "    geom_line(aes(color = Destination))+\n",
    "    geom_point(aes(color = Destination))+\n",
    "    theme(axis.text.x = element_text(angle=90))\n",
    "Plot_DesP_line"
   ]
  },
  {
   "cell_type": "code",
   "execution_count": null,
   "id": "77590731",
   "metadata": {},
   "outputs": [],
   "source": [
    "head(Dest_Price)"
   ]
  },
  {
   "cell_type": "code",
   "execution_count": null,
   "id": "de14618f",
   "metadata": {},
   "outputs": [],
   "source": [
    "str(data9)"
   ]
  },
  {
   "cell_type": "code",
   "execution_count": null,
   "id": "a16a6e6d",
   "metadata": {},
   "outputs": [],
   "source": [
    "unique(data9$Airline)"
   ]
  },
  {
   "cell_type": "code",
   "execution_count": null,
   "id": "9a55a460",
   "metadata": {},
   "outputs": [],
   "source": [
    "data9$Airline  <- as.character(data9$Airline)"
   ]
  },
  {
   "cell_type": "code",
   "execution_count": null,
   "id": "f139a673",
   "metadata": {},
   "outputs": [],
   "source": [
    "str(data9)"
   ]
  },
  {
   "cell_type": "code",
   "execution_count": null,
   "id": "7dfdbe5f",
   "metadata": {},
   "outputs": [],
   "source": [
    "data9$Airline  <- as.factor(data9$Airline)"
   ]
  },
  {
   "cell_type": "code",
   "execution_count": null,
   "id": "de9c357f",
   "metadata": {},
   "outputs": [],
   "source": [
    "str(data9)"
   ]
  },
  {
   "cell_type": "code",
   "execution_count": null,
   "id": "d4d3fc58",
   "metadata": {},
   "outputs": [],
   "source": [
    "Dest_Duration <- data8 %>% group_by(Destination,Airline) %>% summarise(Average_Duration = mean(Duration))\n",
    "Plot_DesD_line <- ggplot(Dest_Duration, aes(y = Average_Duration, x = Airline, group = Destination))+\n",
    "    geom_line(aes(color = Destination))+\n",
    "    geom_point(aes(color = Destination))+\n",
    "    theme(axis.text.x = element_text(angle=90))\n",
    "Plot_DesD_line"
   ]
  },
  {
   "cell_type": "code",
   "execution_count": null,
   "id": "cf73097c",
   "metadata": {},
   "outputs": [],
   "source": [
    "\n",
    "Plot_DesA_line <- ggplot(Dest_Duration, aes(y = Average_Duration, x = Destination, group = Airline))+\n",
    "    geom_line(aes(color = Airline))+\n",
    "    geom_point(aes(color = Airline))\n",
    "Plot_DesA_line"
   ]
  },
  {
   "cell_type": "code",
   "execution_count": null,
   "id": "867907fc",
   "metadata": {},
   "outputs": [],
   "source": [
    "# Gradiant Boosting using log(Price)\n",
    "# install.packages(\"xgboost\")\n",
    "library(xgboost) #for fitting the xgboost model\n"
   ]
  },
  {
   "cell_type": "code",
   "execution_count": null,
   "id": "3336e059",
   "metadata": {},
   "outputs": [],
   "source": [
    "library(caret)   #for general data preparation and model fitting"
   ]
  },
  {
   "cell_type": "code",
   "execution_count": null,
   "id": "5f366656",
   "metadata": {},
   "outputs": [],
   "source": [
    "#make this example reproducible\n",
    "set.seed(0)\n",
    "\n",
    "#split into training (80%) and testing set (20%)\n",
    "parts = createDataPartition(data9$Price, p = .7, list = F)\n",
    "train = data9[parts, ]\n",
    "test = data9[-parts, ]"
   ]
  },
  {
   "cell_type": "code",
   "execution_count": null,
   "id": "938e8f06",
   "metadata": {},
   "outputs": [],
   "source": [
    "#define predictor and response variables in training set\n",
    "train_x = data.matrix(train[, -5])\n",
    "train_y = train[,5]\n",
    "\n",
    "#define predictor and response variables in testing set\n",
    "test_x = data.matrix(test[, -5])\n",
    "test_y = test[, 5]\n",
    "\n",
    "#define final training and testing sets\n",
    "xgb_train = xgb.DMatrix(data = train_x, label = train_y)\n",
    "xgb_test = xgb.DMatrix(data = test_x, label = test_y)"
   ]
  },
  {
   "cell_type": "code",
   "execution_count": null,
   "id": "bf81eceb",
   "metadata": {},
   "outputs": [],
   "source": [
    "head(train)"
   ]
  },
  {
   "cell_type": "code",
   "execution_count": null,
   "id": "8b640a5c",
   "metadata": {},
   "outputs": [],
   "source": [
    "head(test_y)"
   ]
  },
  {
   "cell_type": "code",
   "execution_count": null,
   "id": "73f3a99e",
   "metadata": {},
   "outputs": [],
   "source": [
    "head(train_x)"
   ]
  },
  {
   "cell_type": "code",
   "execution_count": null,
   "id": "8f901673",
   "metadata": {},
   "outputs": [],
   "source": [
    "#define watchlist\n",
    "watchlist = list(train=xgb_train, test=xgb_test)\n",
    "\n",
    "#fit XGBoost model and display training and testing data at each round\n",
    "model = xgb.train(data = xgb_train, max.depth = 3, watchlist=watchlist, nrounds = 1000)"
   ]
  },
  {
   "cell_type": "code",
   "execution_count": null,
   "id": "cbf3e645",
   "metadata": {},
   "outputs": [],
   "source": []
  }
 ],
 "metadata": {
  "kernelspec": {
   "display_name": "R",
   "language": "R",
   "name": "ir"
  },
  "language_info": {
   "codemirror_mode": "r",
   "file_extension": ".r",
   "mimetype": "text/x-r-source",
   "name": "R",
   "pygments_lexer": "r",
   "version": "3.6.1"
  }
 },
 "nbformat": 4,
 "nbformat_minor": 5
}
